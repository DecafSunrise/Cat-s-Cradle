{
 "cells": [
  {
   "cell_type": "code",
   "execution_count": 127,
   "id": "b7db5918",
   "metadata": {},
   "outputs": [],
   "source": [
    "import networkx as nx\n",
    "import random\n",
    "import matplotlib.pyplot as plt\n",
    "import time\n",
    "from itertools import combinations, groupby"
   ]
  },
  {
   "cell_type": "code",
   "execution_count": 128,
   "id": "19e1e95c",
   "metadata": {},
   "outputs": [],
   "source": [
    "def Intersection(lst1, lst2):\n",
    "    return list(set(lst1).intersection(lst2))\n",
    "\n",
    "def total_unique(lst1, list2):\n",
    "    return list(set(lst1 + list2))\n",
    "\n",
    "def Remove(lst):\n",
    "     return ([list(i) for i in {*[tuple(sorted(i)) for i in lst]}]) \n",
    "\n",
    "def get_potential_dupes(G, threshold):\n",
    "    potential_duplication = list()\n",
    "    # G.nodes()\n",
    "    for node in G.nodes():\n",
    "#         print(node)\n",
    "#         print()\n",
    "        for neighbor in list(G.neighbors(node)):\n",
    "            a = list(G.neighbors(node))\n",
    "            b = list(G.neighbors(neighbor))\n",
    "            unique = (total_unique(a, b))\n",
    "            intersect = (Intersection(a, b))\n",
    "            pct_overlap = len(intersect)/len(unique)\n",
    "#             print(\"\\t\", pct_overlap)\n",
    "            if pct_overlap > threshold:# and (len(a)>2) and (len(b)>2):\n",
    "                potential_duplication.append([node, neighbor])\n",
    "    \n",
    "#     potential_duplication = list(map(sorted, potential_duplication))\n",
    "    \n",
    "    return Remove(potential_duplication)"
   ]
  },
  {
   "cell_type": "code",
   "execution_count": 130,
   "id": "62064c7b",
   "metadata": {},
   "outputs": [],
   "source": [
    "def gnp_random_connected_graph(n, p):\n",
    "    \"\"\"\n",
    "    Generates a random undirected graph, similarly to an Erdős-Rényi \n",
    "    graph, but enforcing that the resulting graph is conneted\n",
    "    \"\"\"\n",
    "    edges = combinations(range(n), 2)\n",
    "    G = nx.Graph()\n",
    "    G.add_nodes_from(range(n))\n",
    "    if p <= 0:\n",
    "        return G\n",
    "    if p >= 1:\n",
    "        return nx.complete_graph(n, create_using=G)\n",
    "    for _, node_edges in groupby(edges, key=lambda x: x[0]):\n",
    "        node_edges = list(node_edges)\n",
    "        random_edge = random.choice(node_edges)\n",
    "        G.add_edge(*random_edge)\n",
    "        for e in node_edges:\n",
    "            if random.random() < p:\n",
    "                G.add_edge(*e)\n",
    "    return G"
   ]
  },
  {
   "cell_type": "code",
   "execution_count": 195,
   "id": "8bcdb05f",
   "metadata": {},
   "outputs": [],
   "source": [
    "nodecount = 1000\n",
    "G = gnp_random_connected_graph(nodecount,.25/nodecount)"
   ]
  },
  {
   "cell_type": "code",
   "execution_count": 196,
   "id": "3288a55a",
   "metadata": {},
   "outputs": [],
   "source": [
    "neighbor_list = list()\n",
    "for node in G.nodes():\n",
    "    if len(tuple(G.neighbors(node)))>0:\n",
    "        neighbor_list.append(node)"
   ]
  },
  {
   "cell_type": "code",
   "execution_count": 197,
   "id": "775bc941",
   "metadata": {},
   "outputs": [
    {
     "data": {
      "text/plain": [
       "1000"
      ]
     },
     "execution_count": 197,
     "metadata": {},
     "output_type": "execute_result"
    }
   ],
   "source": [
    "len(neighbor_list)"
   ]
  },
  {
   "cell_type": "code",
   "execution_count": null,
   "id": "30d04a96",
   "metadata": {},
   "outputs": [],
   "source": [
    "for x in neighbor_list:\n",
    "    print(tuple(G.neighbors(x)))"
   ]
  },
  {
   "cell_type": "code",
   "execution_count": null,
   "id": "baaa9781",
   "metadata": {},
   "outputs": [
    {
     "name": "stdout",
     "output_type": "stream",
     "text": [
      "10\n",
      "\t 0.0009999275207519531 seconds\n",
      "100\n",
      "\t 0.0019989013671875 seconds\n",
      "1000\n",
      "\t 0.12005758285522461 seconds\n",
      "5000\n",
      "\t 3.204409122467041 seconds\n",
      "10000\n",
      "\t 13.764147281646729 seconds\n",
      "100000\n"
     ]
    }
   ],
   "source": [
    "seed = 42\n",
    "probability = 0.4\n",
    "\n",
    "for i in [10, 100, 1000, 5000, 10000, 100000, 1000000]:\n",
    "    print(i)\n",
    "    starttime = time.time()\n",
    "#     nodes = random.randint(5,1000)\n",
    "    G = gnp_random_connected_graph(i,.25/i)\n",
    "    get_potential_dupes(G, threshold=.5)\n",
    "    print(\"\\t\",time.time()-starttime,\"seconds\")"
   ]
  },
  {
   "cell_type": "code",
   "execution_count": null,
   "id": "04a0e8f0",
   "metadata": {},
   "outputs": [],
   "source": []
  }
 ],
 "metadata": {
  "kernelspec": {
   "display_name": "NLP",
   "language": "python",
   "name": "nlp"
  },
  "language_info": {
   "codemirror_mode": {
    "name": "ipython",
    "version": 3
   },
   "file_extension": ".py",
   "mimetype": "text/x-python",
   "name": "python",
   "nbconvert_exporter": "python",
   "pygments_lexer": "ipython3",
   "version": "3.8.11"
  }
 },
 "nbformat": 4,
 "nbformat_minor": 5
}
