{
 "cells": [
  {
   "cell_type": "code",
   "execution_count": 1,
   "id": "cfe4e597",
   "metadata": {},
   "outputs": [
    {
     "name": "stderr",
     "output_type": "stream",
     "text": [
      "C:\\Users\\Danny\\.conda\\envs\\NLP\\lib\\site-packages\\numpy\\_distributor_init.py:30: UserWarning: loaded more than 1 DLL from .libs:\n",
      "C:\\Users\\Danny\\.conda\\envs\\NLP\\lib\\site-packages\\numpy\\.libs\\libopenblas.GK7GX5KEQ4F6UYO3P26ULGBQYHGQO7J4.gfortran-win_amd64.dll\n",
      "C:\\Users\\Danny\\.conda\\envs\\NLP\\lib\\site-packages\\numpy\\.libs\\libopenblas.WCDJNK7YVMPZQ2ME2ZZHJJRJ3JIKNDB7.gfortran-win_amd64.dll\n",
      "  warnings.warn(\"loaded more than 1 DLL from .libs:\"\n"
     ]
    }
   ],
   "source": [
    "import pandas as pd\n",
    "import json\n",
    "import networkx as nx\n",
    "import nx_altair as nxa\n",
    "import json\n",
    "import squarify\n",
    "import altair as alt\n",
    "import numpy as np\n",
    "import matplotlib\n",
    "from sklearn.cluster import AgglomerativeClustering\n",
    "from networkx.algorithms.community import *\n",
    "from scipy.cluster.hierarchy import dendrogram,leaves_list\n",
    "from scipy.cluster.hierarchy import ClusterWarning\n",
    "from warnings import simplefilter\n",
    "simplefilter(\"ignore\", ClusterWarning)"
   ]
  },
  {
   "cell_type": "code",
   "execution_count": 2,
   "id": "0d72acf6",
   "metadata": {},
   "outputs": [
    {
     "name": "stderr",
     "output_type": "stream",
     "text": [
      "C:\\Users\\Danny\\.conda\\envs\\NLP\\lib\\site-packages\\numpy\\core\\_asarray.py:102: VisibleDeprecationWarning: Creating an ndarray from ragged nested sequences (which is a list-or-tuple of lists-or-tuples-or ndarrays with different lengths or shapes) is deprecated. If you meant to do this, you must specify 'dtype=object' when creating the ndarray.\n",
      "  return array(a, dtype, copy=False, order=order)\n"
     ]
    },
    {
     "data": {
      "text/html": [
       "\n",
       "<div id=\"altair-viz-99f9a1f66fd6494b924aa055b2623989\"></div>\n",
       "<script type=\"text/javascript\">\n",
       "  (function(spec, embedOpt){\n",
       "    let outputDiv = document.currentScript.previousElementSibling;\n",
       "    if (outputDiv.id !== \"altair-viz-99f9a1f66fd6494b924aa055b2623989\") {\n",
       "      outputDiv = document.getElementById(\"altair-viz-99f9a1f66fd6494b924aa055b2623989\");\n",
       "    }\n",
       "    const paths = {\n",
       "      \"vega\": \"https://cdn.jsdelivr.net/npm//vega@5?noext\",\n",
       "      \"vega-lib\": \"https://cdn.jsdelivr.net/npm//vega-lib?noext\",\n",
       "      \"vega-lite\": \"https://cdn.jsdelivr.net/npm//vega-lite@4.8.1?noext\",\n",
       "      \"vega-embed\": \"https://cdn.jsdelivr.net/npm//vega-embed@6?noext\",\n",
       "    };\n",
       "\n",
       "    function loadScript(lib) {\n",
       "      return new Promise(function(resolve, reject) {\n",
       "        var s = document.createElement('script');\n",
       "        s.src = paths[lib];\n",
       "        s.async = true;\n",
       "        s.onload = () => resolve(paths[lib]);\n",
       "        s.onerror = () => reject(`Error loading script: ${paths[lib]}`);\n",
       "        document.getElementsByTagName(\"head\")[0].appendChild(s);\n",
       "      });\n",
       "    }\n",
       "\n",
       "    function showError(err) {\n",
       "      outputDiv.innerHTML = `<div class=\"error\" style=\"color:red;\">${err}</div>`;\n",
       "      throw err;\n",
       "    }\n",
       "\n",
       "    function displayChart(vegaEmbed) {\n",
       "      vegaEmbed(outputDiv, spec, embedOpt)\n",
       "        .catch(err => showError(`Javascript Error: ${err.message}<br>This usually means there's a typo in your chart specification. See the javascript console for the full traceback.`));\n",
       "    }\n",
       "\n",
       "    if(typeof define === \"function\" && define.amd) {\n",
       "      requirejs.config({paths});\n",
       "      require([\"vega-embed\"], displayChart, err => showError(`Error loading script: ${err.message}`));\n",
       "    } else if (typeof vegaEmbed === \"function\") {\n",
       "      displayChart(vegaEmbed);\n",
       "    } else {\n",
       "      loadScript(\"vega\")\n",
       "        .then(() => loadScript(\"vega-lite\"))\n",
       "        .then(() => loadScript(\"vega-embed\"))\n",
       "        .catch(showError)\n",
       "        .then(() => displayChart(vegaEmbed));\n",
       "    }\n",
       "  })({\"config\": {\"view\": {\"continuousWidth\": 400, \"continuousHeight\": 300}}, \"layer\": [{\"data\": {\"name\": \"data-5875e41e975f0da4236884f454850b87\"}, \"mark\": {\"type\": \"line\", \"color\": \"black\", \"opacity\": 1, \"strokeWidth\": 1}, \"encoding\": {\"detail\": {\"type\": \"quantitative\", \"field\": \"edge\"}, \"x\": {\"type\": \"quantitative\", \"axis\": {\"grid\": false, \"labels\": false, \"ticks\": false, \"title\": \"\"}, \"field\": \"x\"}, \"y\": {\"type\": \"quantitative\", \"axis\": {\"grid\": false, \"labels\": false, \"ticks\": false, \"title\": \"\"}, \"field\": \"y\"}}, \"selection\": {\"selector001\": {\"type\": \"interval\", \"bind\": \"scales\", \"encodings\": [\"x\", \"y\"]}}}, {\"data\": {\"name\": \"data-4b3022452450344104e7da775b39fa07\"}, \"mark\": {\"type\": \"point\", \"fill\": \"red\", \"opacity\": 1, \"size\": 300, \"strokeWidth\": 1.0}, \"encoding\": {\"x\": {\"type\": \"quantitative\", \"axis\": {\"grid\": false, \"labels\": false, \"ticks\": false}, \"field\": \"x\"}, \"y\": {\"type\": \"quantitative\", \"axis\": {\"grid\": false, \"labels\": false, \"ticks\": false}, \"field\": \"y\"}}}], \"$schema\": \"https://vega.github.io/schema/vega-lite/v4.8.1.json\", \"datasets\": {\"data-5875e41e975f0da4236884f454850b87\": [{\"source\": 0, \"edge\": 0, \"pair\": [0, 2], \"target\": 2, \"y\": 0.16915321377560594, \"x\": 0.30088378849447933}, {\"source\": 0, \"edge\": 0, \"pair\": [0, 2], \"target\": 2, \"y\": -0.026418407757046132, \"x\": -0.008209200740521417}, {\"source\": 0, \"edge\": 1, \"pair\": [0, 3], \"target\": 3, \"y\": 0.16915321377560594, \"x\": 0.30088378849447933}, {\"source\": 0, \"edge\": 1, \"pair\": [0, 3], \"target\": 3, \"y\": 0.4380576100024439, \"x\": -0.0752300057410689}, {\"source\": 0, \"edge\": 2, \"pair\": [0, 11], \"target\": 11, \"y\": 0.16915321377560594, \"x\": 0.30088378849447933}, {\"source\": 0, \"edge\": 2, \"pair\": [0, 11], \"target\": 11, \"y\": 0.14844634432256, \"x\": 0.6244983116900023}, {\"source\": 0, \"edge\": 3, \"pair\": [0, 13], \"target\": 13, \"y\": 0.16915321377560594, \"x\": 0.30088378849447933}, {\"source\": 0, \"edge\": 3, \"pair\": [0, 13], \"target\": 13, \"y\": -0.16476547919087786, \"x\": 0.40222849866013777}, {\"source\": 1, \"edge\": 4, \"pair\": [1, 6], \"target\": 6, \"y\": 0.37102337427800525, \"x\": 0.4280442631794994}, {\"source\": 1, \"edge\": 4, \"pair\": [1, 6], \"target\": 6, \"y\": 0.1314068164397685, \"x\": -0.024680270315818396}, {\"source\": 1, \"edge\": 5, \"pair\": [1, 11], \"target\": 11, \"y\": 0.37102337427800525, \"x\": 0.4280442631794994}, {\"source\": 1, \"edge\": 5, \"pair\": [1, 11], \"target\": 11, \"y\": 0.14844634432256, \"x\": 0.6244983116900023}, {\"source\": 2, \"edge\": 6, \"pair\": [2, 4], \"target\": 4, \"y\": -0.026418407757046132, \"x\": -0.008209200740521417}, {\"source\": 2, \"edge\": 6, \"pair\": [2, 4], \"target\": 4, \"y\": 0.10772355576990449, \"x\": -0.44191991697943805}, {\"source\": 2, \"edge\": 7, \"pair\": [2, 5], \"target\": 5, \"y\": -0.026418407757046132, \"x\": -0.008209200740521417}, {\"source\": 2, \"edge\": 7, \"pair\": [2, 5], \"target\": 5, \"y\": 0.29146909113788116, \"x\": -0.18937765977540094}, {\"source\": 2, \"edge\": 8, \"pair\": [2, 8], \"target\": 8, \"y\": -0.026418407757046132, \"x\": -0.008209200740521417}, {\"source\": 2, \"edge\": 8, \"pair\": [2, 8], \"target\": 8, \"y\": 0.1292119256742948, \"x\": -0.18514773266889786}, {\"source\": 2, \"edge\": 9, \"pair\": [2, 9], \"target\": 9, \"y\": -0.026418407757046132, \"x\": -0.008209200740521417}, {\"source\": 2, \"edge\": 9, \"pair\": [2, 9], \"target\": 9, \"y\": -0.1779392981712663, \"x\": -0.315422488628579}, {\"source\": 2, \"edge\": 10, \"pair\": [2, 13], \"target\": 13, \"y\": -0.026418407757046132, \"x\": -0.008209200740521417}, {\"source\": 2, \"edge\": 10, \"pair\": [2, 13], \"target\": 13, \"y\": -0.16476547919087786, \"x\": 0.40222849866013777}, {\"source\": 2, \"edge\": 11, \"pair\": [2, 19], \"target\": 19, \"y\": -0.026418407757046132, \"x\": -0.008209200740521417}, {\"source\": 2, \"edge\": 11, \"pair\": [2, 19], \"target\": 19, \"y\": -0.261461658243604, \"x\": 0.17255556859772941}, {\"source\": 3, \"edge\": 12, \"pair\": [3, 6], \"target\": 6, \"y\": 0.4380576100024439, \"x\": -0.0752300057410689}, {\"source\": 3, \"edge\": 12, \"pair\": [3, 6], \"target\": 6, \"y\": 0.1314068164397685, \"x\": -0.024680270315818396}, {\"source\": 3, \"edge\": 13, \"pair\": [3, 7], \"target\": 7, \"y\": 0.4380576100024439, \"x\": -0.0752300057410689}, {\"source\": 3, \"edge\": 13, \"pair\": [3, 7], \"target\": 7, \"y\": 0.044898240004087896, \"x\": -0.2716487258964784}, {\"source\": 3, \"edge\": 14, \"pair\": [3, 8], \"target\": 8, \"y\": 0.4380576100024439, \"x\": -0.0752300057410689}, {\"source\": 3, \"edge\": 14, \"pair\": [3, 8], \"target\": 8, \"y\": 0.1292119256742948, \"x\": -0.18514773266889786}, {\"source\": 3, \"edge\": 15, \"pair\": [3, 17], \"target\": 17, \"y\": 0.4380576100024439, \"x\": -0.0752300057410689}, {\"source\": 3, \"edge\": 15, \"pair\": [3, 17], \"target\": 17, \"y\": 0.4086353577598896, \"x\": -0.34298843639242116}, {\"source\": 3, \"edge\": 16, \"pair\": [3, 18], \"target\": 18, \"y\": 0.4380576100024439, \"x\": -0.0752300057410689}, {\"source\": 3, \"edge\": 16, \"pair\": [3, 18], \"target\": 18, \"y\": 0.9089807089392197, \"x\": -0.14545271037415908}, {\"source\": 4, \"edge\": 17, \"pair\": [4, 5], \"target\": 5, \"y\": 0.10772355576990449, \"x\": -0.44191991697943805}, {\"source\": 4, \"edge\": 17, \"pair\": [4, 5], \"target\": 5, \"y\": 0.29146909113788116, \"x\": -0.18937765977540094}, {\"source\": 4, \"edge\": 18, \"pair\": [4, 6], \"target\": 6, \"y\": 0.10772355576990449, \"x\": -0.44191991697943805}, {\"source\": 4, \"edge\": 18, \"pair\": [4, 6], \"target\": 6, \"y\": 0.1314068164397685, \"x\": -0.024680270315818396}, {\"source\": 4, \"edge\": 19, \"pair\": [4, 9], \"target\": 9, \"y\": 0.10772355576990449, \"x\": -0.44191991697943805}, {\"source\": 4, \"edge\": 19, \"pair\": [4, 9], \"target\": 9, \"y\": -0.1779392981712663, \"x\": -0.315422488628579}, {\"source\": 4, \"edge\": 20, \"pair\": [4, 15], \"target\": 15, \"y\": 0.10772355576990449, \"x\": -0.44191991697943805}, {\"source\": 4, \"edge\": 20, \"pair\": [4, 15], \"target\": 15, \"y\": 0.05047697267161797, \"x\": -0.9107314872760539}, {\"source\": 4, \"edge\": 21, \"pair\": [4, 17], \"target\": 17, \"y\": 0.10772355576990449, \"x\": -0.44191991697943805}, {\"source\": 4, \"edge\": 21, \"pair\": [4, 17], \"target\": 17, \"y\": 0.4086353577598896, \"x\": -0.34298843639242116}, {\"source\": 5, \"edge\": 22, \"pair\": [5, 17], \"target\": 17, \"y\": 0.29146909113788116, \"x\": -0.18937765977540094}, {\"source\": 5, \"edge\": 22, \"pair\": [5, 17], \"target\": 17, \"y\": 0.4086353577598896, \"x\": -0.34298843639242116}, {\"source\": 6, \"edge\": 23, \"pair\": [6, 7], \"target\": 7, \"y\": 0.1314068164397685, \"x\": -0.024680270315818396}, {\"source\": 6, \"edge\": 23, \"pair\": [6, 7], \"target\": 7, \"y\": 0.044898240004087896, \"x\": -0.2716487258964784}, {\"source\": 6, \"edge\": 24, \"pair\": [6, 8], \"target\": 8, \"y\": 0.1314068164397685, \"x\": -0.024680270315818396}, {\"source\": 6, \"edge\": 24, \"pair\": [6, 8], \"target\": 8, \"y\": 0.1292119256742948, \"x\": -0.18514773266889786}, {\"source\": 6, \"edge\": 25, \"pair\": [6, 14], \"target\": 14, \"y\": 0.1314068164397685, \"x\": -0.024680270315818396}, {\"source\": 6, \"edge\": 25, \"pair\": [6, 14], \"target\": 14, \"y\": -0.33412588362258616, \"x\": -0.0431749634040147}, {\"source\": 6, \"edge\": 26, \"pair\": [6, 17], \"target\": 17, \"y\": 0.1314068164397685, \"x\": -0.024680270315818396}, {\"source\": 6, \"edge\": 26, \"pair\": [6, 17], \"target\": 17, \"y\": 0.4086353577598896, \"x\": -0.34298843639242116}, {\"source\": 6, \"edge\": 27, \"pair\": [6, 19], \"target\": 19, \"y\": 0.1314068164397685, \"x\": -0.024680270315818396}, {\"source\": 6, \"edge\": 27, \"pair\": [6, 19], \"target\": 19, \"y\": -0.261461658243604, \"x\": 0.17255556859772941}, {\"source\": 7, \"edge\": 28, \"pair\": [7, 14], \"target\": 14, \"y\": 0.044898240004087896, \"x\": -0.2716487258964784}, {\"source\": 7, \"edge\": 28, \"pair\": [7, 14], \"target\": 14, \"y\": -0.33412588362258616, \"x\": -0.0431749634040147}, {\"source\": 8, \"edge\": 29, \"pair\": [8, 9], \"target\": 9, \"y\": 0.1292119256742948, \"x\": -0.18514773266889786}, {\"source\": 8, \"edge\": 29, \"pair\": [8, 9], \"target\": 9, \"y\": -0.1779392981712663, \"x\": -0.315422488628579}, {\"source\": 9, \"edge\": 30, \"pair\": [9, 14], \"target\": 14, \"y\": -0.1779392981712663, \"x\": -0.315422488628579}, {\"source\": 9, \"edge\": 30, \"pair\": [9, 14], \"target\": 14, \"y\": -0.33412588362258616, \"x\": -0.0431749634040147}, {\"source\": 10, \"edge\": 31, \"pair\": [10, 16], \"target\": 16, \"y\": -0.9999999999999999, \"x\": 0.5583755376518551}, {\"source\": 10, \"edge\": 31, \"pair\": [10, 16], \"target\": 16, \"y\": -0.6154052699457782, \"x\": 0.3503560562168712}, {\"source\": 11, \"edge\": 32, \"pair\": [11, 13], \"target\": 13, \"y\": 0.14844634432256, \"x\": 0.6244983116900023}, {\"source\": 11, \"edge\": 32, \"pair\": [11, 13], \"target\": 13, \"y\": -0.16476547919087786, \"x\": 0.40222849866013777}, {\"source\": 12, \"edge\": 33, \"pair\": [12, 14], \"target\": 14, \"y\": -0.6193672138441226, \"x\": 0.1170415737022764}, {\"source\": 12, \"edge\": 33, \"pair\": [12, 14], \"target\": 14, \"y\": -0.33412588362258616, \"x\": -0.0431749634040147}, {\"source\": 12, \"edge\": 34, \"pair\": [12, 16], \"target\": 16, \"y\": -0.6193672138441226, \"x\": 0.1170415737022764}, {\"source\": 12, \"edge\": 34, \"pair\": [12, 16], \"target\": 16, \"y\": -0.6154052699457782, \"x\": 0.3503560562168712}, {\"source\": 12, \"edge\": 35, \"pair\": [12, 19], \"target\": 19, \"y\": -0.6193672138441226, \"x\": 0.1170415737022764}, {\"source\": 12, \"edge\": 35, \"pair\": [12, 19], \"target\": 19, \"y\": -0.261461658243604, \"x\": 0.17255556859772941}, {\"source\": 13, \"edge\": 36, \"pair\": [13, 16], \"target\": 16, \"y\": -0.16476547919087786, \"x\": 0.40222849866013777}, {\"source\": 13, \"edge\": 36, \"pair\": [13, 16], \"target\": 16, \"y\": -0.6154052699457782, \"x\": 0.3503560562168712}, {\"source\": 13, \"edge\": 37, \"pair\": [13, 19], \"target\": 19, \"y\": -0.16476547919087786, \"x\": 0.40222849866013777}, {\"source\": 13, \"edge\": 37, \"pair\": [13, 19], \"target\": 19, \"y\": -0.261461658243604, \"x\": 0.17255556859772941}, {\"source\": 14, \"edge\": 38, \"pair\": [14, 16], \"target\": 16, \"y\": -0.33412588362258616, \"x\": -0.0431749634040147}, {\"source\": 14, \"edge\": 38, \"pair\": [14, 16], \"target\": 16, \"y\": -0.6154052699457782, \"x\": 0.3503560562168712}], \"data-4b3022452450344104e7da775b39fa07\": [{\"x\": 0.30088378849447933, \"y\": 0.16915321377560594}, {\"x\": 0.4280442631794994, \"y\": 0.37102337427800525}, {\"x\": -0.008209200740521417, \"y\": -0.026418407757046132}, {\"x\": -0.0752300057410689, \"y\": 0.4380576100024439}, {\"x\": -0.44191991697943805, \"y\": 0.10772355576990449}, {\"x\": -0.18937765977540094, \"y\": 0.29146909113788116}, {\"x\": -0.024680270315818396, \"y\": 0.1314068164397685}, {\"x\": -0.2716487258964784, \"y\": 0.044898240004087896}, {\"x\": -0.18514773266889786, \"y\": 0.1292119256742948}, {\"x\": -0.315422488628579, \"y\": -0.1779392981712663}, {\"x\": 0.5583755376518551, \"y\": -0.9999999999999999}, {\"x\": 0.6244983116900023, \"y\": 0.14844634432256}, {\"x\": 0.1170415737022764, \"y\": -0.6193672138441226}, {\"x\": 0.40222849866013777, \"y\": -0.16476547919087786}, {\"x\": -0.0431749634040147, \"y\": -0.33412588362258616}, {\"x\": -0.9107314872760539, \"y\": 0.05047697267161797}, {\"x\": 0.3503560562168712, \"y\": -0.6154052699457782}, {\"x\": -0.34298843639242116, \"y\": 0.4086353577598896}, {\"x\": -0.14545271037415908, \"y\": 0.9089807089392197}, {\"x\": 0.17255556859772941, \"y\": -0.261461658243604}]}}, {\"mode\": \"vega-lite\"});\n",
       "</script>"
      ],
      "text/plain": [
       "alt.LayerChart(...)"
      ]
     },
     "execution_count": 2,
     "metadata": {},
     "output_type": "execute_result"
    }
   ],
   "source": [
    "import networkx as nx\n",
    "import nx_altair as nxa\n",
    "\n",
    "# Generate a random graph\n",
    "G = nx.fast_gnp_random_graph(n=20, p=0.25)\n",
    "\n",
    "# Compute positions for viz.\n",
    "pos = nx.spring_layout(G)\n",
    "\n",
    "# Draw the graph using Altair\n",
    "viz = nxa.draw_networkx(G, pos=pos)\n",
    "\n",
    "# Show it as an interactive plot!\n",
    "viz.interactive()"
   ]
  },
  {
   "cell_type": "code",
   "execution_count": 3,
   "id": "2ae9e8d7",
   "metadata": {},
   "outputs": [
    {
     "data": {
      "text/html": [
       "\n",
       "<div id=\"altair-viz-22f084affead49d08f7dd4fb6ce0b3a2\"></div>\n",
       "<script type=\"text/javascript\">\n",
       "  (function(spec, embedOpt){\n",
       "    let outputDiv = document.currentScript.previousElementSibling;\n",
       "    if (outputDiv.id !== \"altair-viz-22f084affead49d08f7dd4fb6ce0b3a2\") {\n",
       "      outputDiv = document.getElementById(\"altair-viz-22f084affead49d08f7dd4fb6ce0b3a2\");\n",
       "    }\n",
       "    const paths = {\n",
       "      \"vega\": \"https://cdn.jsdelivr.net/npm//vega@5?noext\",\n",
       "      \"vega-lib\": \"https://cdn.jsdelivr.net/npm//vega-lib?noext\",\n",
       "      \"vega-lite\": \"https://cdn.jsdelivr.net/npm//vega-lite@4.8.1?noext\",\n",
       "      \"vega-embed\": \"https://cdn.jsdelivr.net/npm//vega-embed@6?noext\",\n",
       "    };\n",
       "\n",
       "    function loadScript(lib) {\n",
       "      return new Promise(function(resolve, reject) {\n",
       "        var s = document.createElement('script');\n",
       "        s.src = paths[lib];\n",
       "        s.async = true;\n",
       "        s.onload = () => resolve(paths[lib]);\n",
       "        s.onerror = () => reject(`Error loading script: ${paths[lib]}`);\n",
       "        document.getElementsByTagName(\"head\")[0].appendChild(s);\n",
       "      });\n",
       "    }\n",
       "\n",
       "    function showError(err) {\n",
       "      outputDiv.innerHTML = `<div class=\"error\" style=\"color:red;\">${err}</div>`;\n",
       "      throw err;\n",
       "    }\n",
       "\n",
       "    function displayChart(vegaEmbed) {\n",
       "      vegaEmbed(outputDiv, spec, embedOpt)\n",
       "        .catch(err => showError(`Javascript Error: ${err.message}<br>This usually means there's a typo in your chart specification. See the javascript console for the full traceback.`));\n",
       "    }\n",
       "\n",
       "    if(typeof define === \"function\" && define.amd) {\n",
       "      requirejs.config({paths});\n",
       "      require([\"vega-embed\"], displayChart, err => showError(`Error loading script: ${err.message}`));\n",
       "    } else if (typeof vegaEmbed === \"function\") {\n",
       "      displayChart(vegaEmbed);\n",
       "    } else {\n",
       "      loadScript(\"vega\")\n",
       "        .then(() => loadScript(\"vega-lite\"))\n",
       "        .then(() => loadScript(\"vega-embed\"))\n",
       "        .catch(showError)\n",
       "        .then(() => displayChart(vegaEmbed));\n",
       "    }\n",
       "  })({\"config\": {\"view\": {\"continuousWidth\": 400, \"continuousHeight\": 300}}, \"layer\": [{\"data\": {\"name\": \"data-fac45d0be06b7bfefe830e3940b369be\"}, \"mark\": {\"type\": \"line\", \"color\": \"black\", \"opacity\": 1}, \"encoding\": {\"detail\": {\"type\": \"quantitative\", \"field\": \"edge\"}, \"size\": {\"type\": \"quantitative\", \"field\": \"weight\", \"legend\": null}, \"x\": {\"type\": \"quantitative\", \"axis\": {\"grid\": false, \"labels\": false, \"ticks\": false, \"title\": \"\"}, \"field\": \"x\"}, \"y\": {\"type\": \"quantitative\", \"axis\": {\"grid\": false, \"labels\": false, \"ticks\": false, \"title\": \"\"}, \"field\": \"y\"}}, \"selection\": {\"selector002\": {\"type\": \"interval\", \"bind\": \"scales\", \"encodings\": [\"x\", \"y\"]}}}, {\"data\": {\"name\": \"data-31de687ced1217c4be94307b843c438e\"}, \"mark\": {\"type\": \"point\", \"opacity\": 1, \"size\": 300, \"strokeWidth\": 1.0}, \"encoding\": {\"fill\": {\"type\": \"quantitative\", \"field\": \"weight\", \"scale\": {\"scheme\": \"viridis\"}}, \"x\": {\"type\": \"quantitative\", \"axis\": {\"grid\": false, \"labels\": false, \"ticks\": false}, \"field\": \"x\"}, \"y\": {\"type\": \"quantitative\", \"axis\": {\"grid\": false, \"labels\": false, \"ticks\": false}, \"field\": \"y\"}}}], \"$schema\": \"https://vega.github.io/schema/vega-lite/v4.8.1.json\", \"datasets\": {\"data-fac45d0be06b7bfefe830e3940b369be\": [{\"source\": 0, \"edge\": 0, \"pair\": [0, 2], \"target\": 2, \"y\": 0.16915321377560594, \"x\": 0.30088378849447933, \"weight\": 9.66581504331012}, {\"source\": 0, \"edge\": 0, \"pair\": [0, 2], \"target\": 2, \"y\": -0.026418407757046132, \"x\": -0.008209200740521417, \"weight\": 9.66581504331012}, {\"source\": 0, \"edge\": 1, \"pair\": [0, 3], \"target\": 3, \"y\": 0.16915321377560594, \"x\": 0.30088378849447933, \"weight\": 3.9632635669474428}, {\"source\": 0, \"edge\": 1, \"pair\": [0, 3], \"target\": 3, \"y\": 0.4380576100024439, \"x\": -0.0752300057410689, \"weight\": 3.9632635669474428}, {\"source\": 0, \"edge\": 2, \"pair\": [0, 11], \"target\": 11, \"y\": 0.16915321377560594, \"x\": 0.30088378849447933, \"weight\": 2.959984051994146}, {\"source\": 0, \"edge\": 2, \"pair\": [0, 11], \"target\": 11, \"y\": 0.14844634432256, \"x\": 0.6244983116900023, \"weight\": 2.959984051994146}, {\"source\": 0, \"edge\": 3, \"pair\": [0, 13], \"target\": 13, \"y\": 0.16915321377560594, \"x\": 0.30088378849447933, \"weight\": 4.635396455690005}, {\"source\": 0, \"edge\": 3, \"pair\": [0, 13], \"target\": 13, \"y\": -0.16476547919087786, \"x\": 0.40222849866013777, \"weight\": 4.635396455690005}, {\"source\": 1, \"edge\": 4, \"pair\": [1, 6], \"target\": 6, \"y\": 0.37102337427800525, \"x\": 0.4280442631794994, \"weight\": 4.680976515416822}, {\"source\": 1, \"edge\": 4, \"pair\": [1, 6], \"target\": 6, \"y\": 0.1314068164397685, \"x\": -0.024680270315818396, \"weight\": 4.680976515416822}, {\"source\": 1, \"edge\": 5, \"pair\": [1, 11], \"target\": 11, \"y\": 0.37102337427800525, \"x\": 0.4280442631794994, \"weight\": 3.5536597949501667}, {\"source\": 1, \"edge\": 5, \"pair\": [1, 11], \"target\": 11, \"y\": 0.14844634432256, \"x\": 0.6244983116900023, \"weight\": 3.5536597949501667}, {\"source\": 2, \"edge\": 6, \"pair\": [2, 4], \"target\": 4, \"y\": -0.026418407757046132, \"x\": -0.008209200740521417, \"weight\": 2.6854880267515133}, {\"source\": 2, \"edge\": 6, \"pair\": [2, 4], \"target\": 4, \"y\": 0.10772355576990449, \"x\": -0.44191991697943805, \"weight\": 2.6854880267515133}, {\"source\": 2, \"edge\": 7, \"pair\": [2, 5], \"target\": 5, \"y\": -0.026418407757046132, \"x\": -0.008209200740521417, \"weight\": 2.4476525738504633}, {\"source\": 2, \"edge\": 7, \"pair\": [2, 5], \"target\": 5, \"y\": 0.29146909113788116, \"x\": -0.18937765977540094, \"weight\": 2.4476525738504633}, {\"source\": 2, \"edge\": 8, \"pair\": [2, 8], \"target\": 8, \"y\": -0.026418407757046132, \"x\": -0.008209200740521417, \"weight\": 1.0900513543400965}, {\"source\": 2, \"edge\": 8, \"pair\": [2, 8], \"target\": 8, \"y\": 0.1292119256742948, \"x\": -0.18514773266889786, \"weight\": 1.0900513543400965}, {\"source\": 2, \"edge\": 9, \"pair\": [2, 9], \"target\": 9, \"y\": -0.026418407757046132, \"x\": -0.008209200740521417, \"weight\": 4.288926023833888}, {\"source\": 2, \"edge\": 9, \"pair\": [2, 9], \"target\": 9, \"y\": -0.1779392981712663, \"x\": -0.315422488628579, \"weight\": 4.288926023833888}, {\"source\": 2, \"edge\": 10, \"pair\": [2, 13], \"target\": 13, \"y\": -0.026418407757046132, \"x\": -0.008209200740521417, \"weight\": 1.7277689774255605}, {\"source\": 2, \"edge\": 10, \"pair\": [2, 13], \"target\": 13, \"y\": -0.16476547919087786, \"x\": 0.40222849866013777, \"weight\": 1.7277689774255605}, {\"source\": 2, \"edge\": 11, \"pair\": [2, 19], \"target\": 19, \"y\": -0.026418407757046132, \"x\": -0.008209200740521417, \"weight\": 5.373302551652611}, {\"source\": 2, \"edge\": 11, \"pair\": [2, 19], \"target\": 19, \"y\": -0.261461658243604, \"x\": 0.17255556859772941, \"weight\": 5.373302551652611}, {\"source\": 3, \"edge\": 12, \"pair\": [3, 6], \"target\": 6, \"y\": 0.4380576100024439, \"x\": -0.0752300057410689, \"weight\": 6.19160581746193}, {\"source\": 3, \"edge\": 12, \"pair\": [3, 6], \"target\": 6, \"y\": 0.1314068164397685, \"x\": -0.024680270315818396, \"weight\": 6.19160581746193}, {\"source\": 3, \"edge\": 13, \"pair\": [3, 7], \"target\": 7, \"y\": 0.4380576100024439, \"x\": -0.0752300057410689, \"weight\": 8.330376350137275}, {\"source\": 3, \"edge\": 13, \"pair\": [3, 7], \"target\": 7, \"y\": 0.044898240004087896, \"x\": -0.2716487258964784, \"weight\": 8.330376350137275}, {\"source\": 3, \"edge\": 14, \"pair\": [3, 8], \"target\": 8, \"y\": 0.4380576100024439, \"x\": -0.0752300057410689, \"weight\": 3.381479041667439}, {\"source\": 3, \"edge\": 14, \"pair\": [3, 8], \"target\": 8, \"y\": 0.1292119256742948, \"x\": -0.18514773266889786, \"weight\": 3.381479041667439}, {\"source\": 3, \"edge\": 15, \"pair\": [3, 17], \"target\": 17, \"y\": 0.4380576100024439, \"x\": -0.0752300057410689, \"weight\": 4.830176877453756}, {\"source\": 3, \"edge\": 15, \"pair\": [3, 17], \"target\": 17, \"y\": 0.4086353577598896, \"x\": -0.34298843639242116, \"weight\": 4.830176877453756}, {\"source\": 3, \"edge\": 16, \"pair\": [3, 18], \"target\": 18, \"y\": 0.4380576100024439, \"x\": -0.0752300057410689, \"weight\": 8.156024617707743}, {\"source\": 3, \"edge\": 16, \"pair\": [3, 18], \"target\": 18, \"y\": 0.9089807089392197, \"x\": -0.14545271037415908, \"weight\": 8.156024617707743}, {\"source\": 4, \"edge\": 17, \"pair\": [4, 5], \"target\": 5, \"y\": 0.10772355576990449, \"x\": -0.44191991697943805, \"weight\": 8.031643927433112}, {\"source\": 4, \"edge\": 17, \"pair\": [4, 5], \"target\": 5, \"y\": 0.29146909113788116, \"x\": -0.18937765977540094, \"weight\": 8.031643927433112}, {\"source\": 4, \"edge\": 18, \"pair\": [4, 6], \"target\": 6, \"y\": 0.10772355576990449, \"x\": -0.44191991697943805, \"weight\": 7.776155122552678}, {\"source\": 4, \"edge\": 18, \"pair\": [4, 6], \"target\": 6, \"y\": 0.1314068164397685, \"x\": -0.024680270315818396, \"weight\": 7.776155122552678}, {\"source\": 4, \"edge\": 19, \"pair\": [4, 9], \"target\": 9, \"y\": 0.10772355576990449, \"x\": -0.44191991697943805, \"weight\": 6.778696829933063}, {\"source\": 4, \"edge\": 19, \"pair\": [4, 9], \"target\": 9, \"y\": -0.1779392981712663, \"x\": -0.315422488628579, \"weight\": 6.778696829933063}, {\"source\": 4, \"edge\": 20, \"pair\": [4, 15], \"target\": 15, \"y\": 0.10772355576990449, \"x\": -0.44191991697943805, \"weight\": 9.521223543774472}, {\"source\": 4, \"edge\": 20, \"pair\": [4, 15], \"target\": 15, \"y\": 0.05047697267161797, \"x\": -0.9107314872760539, \"weight\": 9.521223543774472}, {\"source\": 4, \"edge\": 21, \"pair\": [4, 17], \"target\": 17, \"y\": 0.10772355576990449, \"x\": -0.44191991697943805, \"weight\": 3.541059079736085}, {\"source\": 4, \"edge\": 21, \"pair\": [4, 17], \"target\": 17, \"y\": 0.4086353577598896, \"x\": -0.34298843639242116, \"weight\": 3.541059079736085}, {\"source\": 5, \"edge\": 22, \"pair\": [5, 17], \"target\": 17, \"y\": 0.29146909113788116, \"x\": -0.18937765977540094, \"weight\": 3.052597236573573}, {\"source\": 5, \"edge\": 22, \"pair\": [5, 17], \"target\": 17, \"y\": 0.4086353577598896, \"x\": -0.34298843639242116, \"weight\": 3.052597236573573}, {\"source\": 6, \"edge\": 23, \"pair\": [6, 7], \"target\": 7, \"y\": 0.1314068164397685, \"x\": -0.024680270315818396, \"weight\": 8.556185412446176}, {\"source\": 6, \"edge\": 23, \"pair\": [6, 7], \"target\": 7, \"y\": 0.044898240004087896, \"x\": -0.2716487258964784, \"weight\": 8.556185412446176}, {\"source\": 6, \"edge\": 24, \"pair\": [6, 8], \"target\": 8, \"y\": 0.1314068164397685, \"x\": -0.024680270315818396, \"weight\": 1.5810713040254853}, {\"source\": 6, \"edge\": 24, \"pair\": [6, 8], \"target\": 8, \"y\": 0.1292119256742948, \"x\": -0.18514773266889786, \"weight\": 1.5810713040254853}, {\"source\": 6, \"edge\": 25, \"pair\": [6, 14], \"target\": 14, \"y\": 0.1314068164397685, \"x\": -0.024680270315818396, \"weight\": 2.628699709156546}, {\"source\": 6, \"edge\": 25, \"pair\": [6, 14], \"target\": 14, \"y\": -0.33412588362258616, \"x\": -0.0431749634040147, \"weight\": 2.628699709156546}, {\"source\": 6, \"edge\": 26, \"pair\": [6, 17], \"target\": 17, \"y\": 0.1314068164397685, \"x\": -0.024680270315818396, \"weight\": 9.9214997304617}, {\"source\": 6, \"edge\": 26, \"pair\": [6, 17], \"target\": 17, \"y\": 0.4086353577598896, \"x\": -0.34298843639242116, \"weight\": 9.9214997304617}, {\"source\": 6, \"edge\": 27, \"pair\": [6, 19], \"target\": 19, \"y\": 0.1314068164397685, \"x\": -0.024680270315818396, \"weight\": 1.3127476984227089}, {\"source\": 6, \"edge\": 27, \"pair\": [6, 19], \"target\": 19, \"y\": -0.261461658243604, \"x\": 0.17255556859772941, \"weight\": 1.3127476984227089}, {\"source\": 7, \"edge\": 28, \"pair\": [7, 14], \"target\": 14, \"y\": 0.044898240004087896, \"x\": -0.2716487258964784, \"weight\": 9.791763028928157}, {\"source\": 7, \"edge\": 28, \"pair\": [7, 14], \"target\": 14, \"y\": -0.33412588362258616, \"x\": -0.0431749634040147, \"weight\": 9.791763028928157}, {\"source\": 8, \"edge\": 29, \"pair\": [8, 9], \"target\": 9, \"y\": 0.1292119256742948, \"x\": -0.18514773266889786, \"weight\": 5.03470532683758}, {\"source\": 8, \"edge\": 29, \"pair\": [8, 9], \"target\": 9, \"y\": -0.1779392981712663, \"x\": -0.315422488628579, \"weight\": 5.03470532683758}, {\"source\": 9, \"edge\": 30, \"pair\": [9, 14], \"target\": 14, \"y\": -0.1779392981712663, \"x\": -0.315422488628579, \"weight\": 4.04733572606727}, {\"source\": 9, \"edge\": 30, \"pair\": [9, 14], \"target\": 14, \"y\": -0.33412588362258616, \"x\": -0.0431749634040147, \"weight\": 4.04733572606727}, {\"source\": 10, \"edge\": 31, \"pair\": [10, 16], \"target\": 16, \"y\": -0.9999999999999999, \"x\": 0.5583755376518551, \"weight\": 7.069097690371973}, {\"source\": 10, \"edge\": 31, \"pair\": [10, 16], \"target\": 16, \"y\": -0.6154052699457782, \"x\": 0.3503560562168712, \"weight\": 7.069097690371973}, {\"source\": 11, \"edge\": 32, \"pair\": [11, 13], \"target\": 13, \"y\": 0.14844634432256, \"x\": 0.6244983116900023, \"weight\": 4.9649937250594025}, {\"source\": 11, \"edge\": 32, \"pair\": [11, 13], \"target\": 13, \"y\": -0.16476547919087786, \"x\": 0.40222849866013777, \"weight\": 4.9649937250594025}, {\"source\": 12, \"edge\": 33, \"pair\": [12, 14], \"target\": 14, \"y\": -0.6193672138441226, \"x\": 0.1170415737022764, \"weight\": 1.6600368154628087}, {\"source\": 12, \"edge\": 33, \"pair\": [12, 14], \"target\": 14, \"y\": -0.33412588362258616, \"x\": -0.0431749634040147, \"weight\": 1.6600368154628087}, {\"source\": 12, \"edge\": 34, \"pair\": [12, 16], \"target\": 16, \"y\": -0.6193672138441226, \"x\": 0.1170415737022764, \"weight\": 6.075196674910814}, {\"source\": 12, \"edge\": 34, \"pair\": [12, 16], \"target\": 16, \"y\": -0.6154052699457782, \"x\": 0.3503560562168712, \"weight\": 6.075196674910814}, {\"source\": 12, \"edge\": 35, \"pair\": [12, 19], \"target\": 19, \"y\": -0.6193672138441226, \"x\": 0.1170415737022764, \"weight\": 3.5944289371011764}, {\"source\": 12, \"edge\": 35, \"pair\": [12, 19], \"target\": 19, \"y\": -0.261461658243604, \"x\": 0.17255556859772941, \"weight\": 3.5944289371011764}, {\"source\": 13, \"edge\": 36, \"pair\": [13, 16], \"target\": 16, \"y\": -0.16476547919087786, \"x\": 0.40222849866013777, \"weight\": 9.37789232442908}, {\"source\": 13, \"edge\": 36, \"pair\": [13, 16], \"target\": 16, \"y\": -0.6154052699457782, \"x\": 0.3503560562168712, \"weight\": 9.37789232442908}, {\"source\": 13, \"edge\": 37, \"pair\": [13, 19], \"target\": 19, \"y\": -0.16476547919087786, \"x\": 0.40222849866013777, \"weight\": 6.2595277889443075}, {\"source\": 13, \"edge\": 37, \"pair\": [13, 19], \"target\": 19, \"y\": -0.261461658243604, \"x\": 0.17255556859772941, \"weight\": 6.2595277889443075}, {\"source\": 14, \"edge\": 38, \"pair\": [14, 16], \"target\": 16, \"y\": -0.33412588362258616, \"x\": -0.0431749634040147, \"weight\": 7.4679509543319025}, {\"source\": 14, \"edge\": 38, \"pair\": [14, 16], \"target\": 16, \"y\": -0.6154052699457782, \"x\": 0.3503560562168712, \"weight\": 7.4679509543319025}], \"data-31de687ced1217c4be94307b843c438e\": [{\"x\": 0.30088378849447933, \"y\": 0.16915321377560594, \"weight\": -0.3288910028365029}, {\"x\": 0.4280442631794994, \"y\": 0.37102337427800525, \"weight\": -0.9447907209730195}, {\"x\": -0.008209200740521417, \"y\": -0.026418407757046132, \"weight\": 0.48435146520020755}, {\"x\": -0.0752300057410689, \"y\": 0.4380576100024439, \"weight\": -0.2932363519812943}, {\"x\": -0.44191991697943805, \"y\": 0.10772355576990449, \"weight\": 0.6550859096015118}, {\"x\": -0.18937765977540094, \"y\": 0.29146909113788116, \"weight\": 0.9992132284072125}, {\"x\": -0.024680270315818396, \"y\": 0.1314068164397685, \"weight\": -0.727313792033338}, {\"x\": -0.2716487258964784, \"y\": 0.044898240004087896, \"weight\": 0.2033994524143329}, {\"x\": -0.18514773266889786, \"y\": 0.1292119256742948, \"weight\": -1.6566196665168713}, {\"x\": -0.315422488628579, \"y\": -0.1779392981712663, \"weight\": -0.4416113072954281}, {\"x\": 0.5583755376518551, \"y\": -0.9999999999999999, \"weight\": -0.7420791475165743}, {\"x\": 0.6244983116900023, \"y\": 0.14844634432256, \"weight\": -0.6848190167468778}, {\"x\": 0.1170415737022764, \"y\": -0.6193672138441226, \"weight\": 1.8869824838533646}, {\"x\": 0.40222849866013777, \"y\": -0.16476547919087786, \"weight\": -0.07472427693523619}, {\"x\": -0.0431749634040147, \"y\": -0.33412588362258616, \"weight\": 1.2858776091362918}, {\"x\": -0.9107314872760539, \"y\": 0.05047697267161797, \"weight\": 1.0428226139414492}, {\"x\": 0.3503560562168712, \"y\": -0.6154052699457782, \"weight\": 0.9766361266191221}, {\"x\": -0.34298843639242116, \"y\": 0.4086353577598896, \"weight\": -1.9559326664551788}, {\"x\": -0.14545271037415908, \"y\": 0.9089807089392197, \"weight\": -0.878329269250703}, {\"x\": 0.17255556859772941, \"y\": -0.261461658243604, \"weight\": 1.264804633655951}]}}, {\"mode\": \"vega-lite\"});\n",
       "</script>"
      ],
      "text/plain": [
       "alt.LayerChart(...)"
      ]
     },
     "execution_count": 3,
     "metadata": {},
     "output_type": "execute_result"
    }
   ],
   "source": [
    "import numpy as np\n",
    "\n",
    "# Add weights to nodes and edges\n",
    "for n in G.nodes():\n",
    "    G.nodes[n]['weight'] = np.random.randn()\n",
    "\n",
    "for e in G.edges():\n",
    "    G.edges[e]['weight'] = np.random.uniform(1, 10)\n",
    "\n",
    "\n",
    "# Draw the graph using Altair\n",
    "viz = nxa.draw_networkx(\n",
    "    G, pos=pos,\n",
    "    node_color='weight',\n",
    "    cmap='viridis',\n",
    "    width='weight',\n",
    "    edge_color='black',\n",
    ")\n",
    "\n",
    "# Show it as an interactive plot!\n",
    "viz.interactive()"
   ]
  },
  {
   "cell_type": "code",
   "execution_count": null,
   "id": "218a14f6",
   "metadata": {},
   "outputs": [],
   "source": []
  },
  {
   "cell_type": "code",
   "execution_count": null,
   "id": "0ef98d01",
   "metadata": {},
   "outputs": [],
   "source": []
  },
  {
   "cell_type": "code",
   "execution_count": null,
   "id": "3275284d",
   "metadata": {},
   "outputs": [],
   "source": []
  },
  {
   "cell_type": "code",
   "execution_count": null,
   "id": "111d8d5f",
   "metadata": {},
   "outputs": [],
   "source": [
    "e = nxa.draw_networkx_edges(season6, pos=pos)  # get the edge layer\n",
    "n = nxa.draw_networkx_nodes(season6, pos=pos)  # get the node layer \n",
    "\n",
    "# modify the code to change the encodings\n",
    "n = n.mark_circle().encode(\n",
    "    color=alt.Color('community:N', legend=None),\n",
    "    size=alt.Size('appearance', scale=alt.Scale(range=[10, 1500])),\n",
    "#     size=alt.Size('appearance', scale=alt.Scale(range=[10, 1500])),\n",
    "    opacity=alt.OpacityValue(1),\n",
    "## Tooltip\n",
    "    tooltip=['label']\n",
    "        )\n",
    "\n",
    "e = e.mark_line().encode(\n",
    "#     size=alt.Size('weight'),\n",
    "#     size=alt.Size('weight', scale=alt.Scale(domain=[0, 50000])),\n",
    "    color = alt.Color('weight', legend=None)\n",
    ")\n",
    "\n",
    "(e+n).properties(\n",
    "    width=500,height=500\n",
    ")"
   ]
  },
  {
   "cell_type": "code",
   "execution_count": null,
   "id": "31b7ca12",
   "metadata": {},
   "outputs": [],
   "source": []
  },
  {
   "cell_type": "code",
   "execution_count": null,
   "id": "882b08ac",
   "metadata": {},
   "outputs": [],
   "source": []
  },
  {
   "cell_type": "code",
   "execution_count": null,
   "id": "7820ac84",
   "metadata": {},
   "outputs": [],
   "source": []
  },
  {
   "cell_type": "code",
   "execution_count": null,
   "id": "63de461f",
   "metadata": {},
   "outputs": [],
   "source": []
  }
 ],
 "metadata": {
  "kernelspec": {
   "display_name": "NLP",
   "language": "python",
   "name": "nlp"
  },
  "language_info": {
   "codemirror_mode": {
    "name": "ipython",
    "version": 3
   },
   "file_extension": ".py",
   "mimetype": "text/x-python",
   "name": "python",
   "nbconvert_exporter": "python",
   "pygments_lexer": "ipython3",
   "version": "3.8.11"
  }
 },
 "nbformat": 4,
 "nbformat_minor": 5
}
