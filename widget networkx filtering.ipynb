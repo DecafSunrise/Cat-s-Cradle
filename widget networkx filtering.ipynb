{
 "cells": [
  {
   "cell_type": "code",
   "execution_count": 135,
   "id": "07fc2cda",
   "metadata": {},
   "outputs": [
    {
     "data": {
      "text/html": [
       "<style>.container { width:100% !important; }</style>"
      ],
      "text/plain": [
       "<IPython.core.display.HTML object>"
      ]
     },
     "metadata": {},
     "output_type": "display_data"
    }
   ],
   "source": [
    "from IPython.display import display, HTML\n",
    "display(HTML(\"<style>.container { width:100% !important; }</style>\"))\n",
    "\n",
    "import ipywidgets as widgets\n",
    "\n",
    "from pyvis.network import Network\n",
    "import networkx as nx\n",
    "\n",
    "import pandas as pd\n",
    "\n",
    "import uuid\n",
    "import random\n",
    "\n",
    "import time\n",
    "\n",
    "from ipywidgets import widgets  \n",
    "from ipywidgets import Button, Layout"
   ]
  },
  {
   "cell_type": "markdown",
   "id": "dc185e72",
   "metadata": {},
   "source": [
    "### Make toy data"
   ]
  },
  {
   "cell_type": "code",
   "execution_count": 136,
   "id": "fc21ff42",
   "metadata": {},
   "outputs": [],
   "source": [
    "countries = ['CHN', 'IND', 'USA', 'IDN', 'PAK', 'BRA', 'NGA', 'BGD', 'RUS', 'JPN', 'MEX', 'ETH', 'PHL', \n",
    " 'EGY', 'VNM', 'COD', 'DEU', 'TUR', 'IRN', 'THA', 'FRA', 'GBR', 'ITA', 'ZAF', 'TZA', 'MMR', \n",
    " 'KOR', 'KEN', 'COL', 'ESP', 'UKR', 'ARG', 'UGA', 'DZA', 'SDN', 'IRQ', 'POL', 'AFG', 'CAN', \n",
    " 'MAR', 'SAU', 'UZB', 'PER', 'MYS', 'AGO', 'GHA', 'MOZ', 'VEN', 'YEM', 'NPL', 'MDG', 'PRK', \n",
    " 'CMR', 'CIV', 'AUS', 'TWN', 'NER', 'LKA', 'BFA', 'ROU', 'MLI', 'CHL', 'KAZ', 'MWI', 'ZMB', \n",
    " 'GTM', 'NLD', 'ECU', 'SYR', 'KHM', 'SEN', 'TCD', 'SOM', 'ZWE', 'GIN', 'RWA', 'TUN', 'BEN', \n",
    " 'BEL', 'BOL', 'CUB', 'BDI', 'HTI', 'GRC', 'DOM', 'CZE', 'PRT', 'SWE', 'JOR', 'AZE', 'HUN', \n",
    " 'ARE', 'HND', 'BLR', 'TJK', 'ISR', 'AUT', 'PNG', 'CHE']\n",
    "\n",
    "poss_tags = ['Science', 'Technology', 'Religion', 'Politics', 'Food', 'Finance']"
   ]
  },
  {
   "cell_type": "code",
   "execution_count": 137,
   "id": "540aa799",
   "metadata": {},
   "outputs": [],
   "source": [
    "tags = [list(set([random.choice(poss_tags) for x in range(1,random.choice(range(2,len(poss_tags))))])) for y in range(0,100)]\n",
    "country_tags = [list(set([random.choice(countries) for x in range(1,random.choice(range(2,10)))])) for y in range(0,100)]\n",
    "GUIDs = [str(uuid.uuid4()) for x in range(0,100)]"
   ]
  },
  {
   "cell_type": "code",
   "execution_count": 225,
   "id": "76261b21",
   "metadata": {},
   "outputs": [],
   "source": [
    "# Generate Nodes\n",
    "df_nodes = pd.DataFrame(data=[GUIDs, tags, country_tags]).transpose().rename(columns={0:'GUID', 1:'Tags', 2:'Countries'})"
   ]
  },
  {
   "cell_type": "code",
   "execution_count": 226,
   "id": "1f70456b",
   "metadata": {},
   "outputs": [
    {
     "name": "stdout",
     "output_type": "stream",
     "text": [
      "25\n"
     ]
    }
   ],
   "source": [
    "# Generate Edges\n",
    "allrows = []\n",
    "for i in range(0,25):\n",
    "    row = [random.choice(df_nodes['GUID']), random.choice(df_nodes['GUID'])]\n",
    "    allrows.append(row)\n",
    "\n",
    "for row in allrows:\n",
    "    if row[0]==row[1]:\n",
    "        allrows.remove(row)\n",
    "print(len(allrows))\n",
    "df_edges = pd.DataFrame(allrows).rename(columns={0:'Source', 1:'Target'})"
   ]
  },
  {
   "cell_type": "code",
   "execution_count": 227,
   "id": "0e490ee4",
   "metadata": {},
   "outputs": [
    {
     "data": {
      "text/plain": [
       "100"
      ]
     },
     "execution_count": 227,
     "metadata": {},
     "output_type": "execute_result"
    }
   ],
   "source": [
    "df_nodes['GUID'].nunique()"
   ]
  },
  {
   "cell_type": "code",
   "execution_count": 228,
   "id": "fbf14833",
   "metadata": {},
   "outputs": [
    {
     "data": {
      "text/plain": [
       "23"
      ]
     },
     "execution_count": 228,
     "metadata": {},
     "output_type": "execute_result"
    }
   ],
   "source": [
    "df_edges['Source'].nunique()"
   ]
  },
  {
   "cell_type": "code",
   "execution_count": 141,
   "id": "f6ab744d",
   "metadata": {},
   "outputs": [
    {
     "data": {
      "text/html": [
       "<div>\n",
       "<style scoped>\n",
       "    .dataframe tbody tr th:only-of-type {\n",
       "        vertical-align: middle;\n",
       "    }\n",
       "\n",
       "    .dataframe tbody tr th {\n",
       "        vertical-align: top;\n",
       "    }\n",
       "\n",
       "    .dataframe thead th {\n",
       "        text-align: right;\n",
       "    }\n",
       "</style>\n",
       "<table border=\"1\" class=\"dataframe\">\n",
       "  <thead>\n",
       "    <tr style=\"text-align: right;\">\n",
       "      <th></th>\n",
       "      <th>GUID</th>\n",
       "      <th>Tags</th>\n",
       "      <th>Countries</th>\n",
       "    </tr>\n",
       "  </thead>\n",
       "  <tbody>\n",
       "    <tr>\n",
       "      <th>0</th>\n",
       "      <td>c1990273-50ae-42a0-a8f1-7569932d9300</td>\n",
       "      <td>[Food, Technology]</td>\n",
       "      <td>[AFG, BGD, SAU, BFA, GHA, FRA, ECU]</td>\n",
       "    </tr>\n",
       "    <tr>\n",
       "      <th>1</th>\n",
       "      <td>232ed736-ef89-4c2d-bb96-8e53b40052fa</td>\n",
       "      <td>[Food, Religion, Science]</td>\n",
       "      <td>[EGY, PHL, DOM, KHM, ESP, ZWE, ETH, YEM]</td>\n",
       "    </tr>\n",
       "    <tr>\n",
       "      <th>2</th>\n",
       "      <td>28a126f7-eef1-4b69-9fe9-a565ae155558</td>\n",
       "      <td>[Politics]</td>\n",
       "      <td>[MEX, HTI, JPN, DOM, NGA]</td>\n",
       "    </tr>\n",
       "    <tr>\n",
       "      <th>3</th>\n",
       "      <td>0852ddd9-d630-4f25-b7e0-6168e711df4a</td>\n",
       "      <td>[Food, Science]</td>\n",
       "      <td>[AFG, VEN]</td>\n",
       "    </tr>\n",
       "    <tr>\n",
       "      <th>4</th>\n",
       "      <td>5c9c962d-6b2a-4084-af3b-dd255003d393</td>\n",
       "      <td>[Politics, Technology]</td>\n",
       "      <td>[CHE, VEN, CZE]</td>\n",
       "    </tr>\n",
       "  </tbody>\n",
       "</table>\n",
       "</div>"
      ],
      "text/plain": [
       "                                   GUID                       Tags  \\\n",
       "0  c1990273-50ae-42a0-a8f1-7569932d9300         [Food, Technology]   \n",
       "1  232ed736-ef89-4c2d-bb96-8e53b40052fa  [Food, Religion, Science]   \n",
       "2  28a126f7-eef1-4b69-9fe9-a565ae155558                 [Politics]   \n",
       "3  0852ddd9-d630-4f25-b7e0-6168e711df4a            [Food, Science]   \n",
       "4  5c9c962d-6b2a-4084-af3b-dd255003d393     [Politics, Technology]   \n",
       "\n",
       "                                  Countries  \n",
       "0       [AFG, BGD, SAU, BFA, GHA, FRA, ECU]  \n",
       "1  [EGY, PHL, DOM, KHM, ESP, ZWE, ETH, YEM]  \n",
       "2                 [MEX, HTI, JPN, DOM, NGA]  \n",
       "3                                [AFG, VEN]  \n",
       "4                           [CHE, VEN, CZE]  "
      ]
     },
     "execution_count": 141,
     "metadata": {},
     "output_type": "execute_result"
    }
   ],
   "source": [
    "df_nodes.head()"
   ]
  },
  {
   "cell_type": "code",
   "execution_count": 142,
   "id": "7bae492f",
   "metadata": {
    "scrolled": true
   },
   "outputs": [
    {
     "data": {
      "text/html": [
       "<div>\n",
       "<style scoped>\n",
       "    .dataframe tbody tr th:only-of-type {\n",
       "        vertical-align: middle;\n",
       "    }\n",
       "\n",
       "    .dataframe tbody tr th {\n",
       "        vertical-align: top;\n",
       "    }\n",
       "\n",
       "    .dataframe thead th {\n",
       "        text-align: right;\n",
       "    }\n",
       "</style>\n",
       "<table border=\"1\" class=\"dataframe\">\n",
       "  <thead>\n",
       "    <tr style=\"text-align: right;\">\n",
       "      <th></th>\n",
       "      <th>Source</th>\n",
       "      <th>Target</th>\n",
       "    </tr>\n",
       "  </thead>\n",
       "  <tbody>\n",
       "    <tr>\n",
       "      <th>0</th>\n",
       "      <td>c1dc477d-5982-4efe-9621-fb5369b6fb5f</td>\n",
       "      <td>3e75e8e8-8c9f-406b-9881-13b7f7b58a99</td>\n",
       "    </tr>\n",
       "    <tr>\n",
       "      <th>1</th>\n",
       "      <td>a8053358-2fa9-4ef1-b323-17bb55afd4f6</td>\n",
       "      <td>49bfef14-f944-41d1-bafb-fed6a7c40309</td>\n",
       "    </tr>\n",
       "    <tr>\n",
       "      <th>2</th>\n",
       "      <td>9679f067-e77d-411c-98bb-b6f4d625dbc5</td>\n",
       "      <td>ae7ac9dc-6a36-41e7-a0e1-8908b43694ff</td>\n",
       "    </tr>\n",
       "    <tr>\n",
       "      <th>3</th>\n",
       "      <td>0bf54667-827e-433a-87a2-abd8c8a2b096</td>\n",
       "      <td>1f64491e-952e-4e43-855a-fb4a3beec3ac</td>\n",
       "    </tr>\n",
       "    <tr>\n",
       "      <th>4</th>\n",
       "      <td>6642b065-13f9-4b4b-8f73-3ef5f5ba8236</td>\n",
       "      <td>961c5ebf-a388-40b1-8791-ac851c6c06f6</td>\n",
       "    </tr>\n",
       "  </tbody>\n",
       "</table>\n",
       "</div>"
      ],
      "text/plain": [
       "                                 Source                                Target\n",
       "0  c1dc477d-5982-4efe-9621-fb5369b6fb5f  3e75e8e8-8c9f-406b-9881-13b7f7b58a99\n",
       "1  a8053358-2fa9-4ef1-b323-17bb55afd4f6  49bfef14-f944-41d1-bafb-fed6a7c40309\n",
       "2  9679f067-e77d-411c-98bb-b6f4d625dbc5  ae7ac9dc-6a36-41e7-a0e1-8908b43694ff\n",
       "3  0bf54667-827e-433a-87a2-abd8c8a2b096  1f64491e-952e-4e43-855a-fb4a3beec3ac\n",
       "4  6642b065-13f9-4b4b-8f73-3ef5f5ba8236  961c5ebf-a388-40b1-8791-ac851c6c06f6"
      ]
     },
     "execution_count": 142,
     "metadata": {},
     "output_type": "execute_result"
    }
   ],
   "source": [
    "df_edges.head()"
   ]
  },
  {
   "cell_type": "markdown",
   "id": "97de5e71",
   "metadata": {},
   "source": [
    "------\n",
    "### Input Widget\n"
   ]
  },
  {
   "cell_type": "code",
   "execution_count": 144,
   "id": "2ebf93a5",
   "metadata": {},
   "outputs": [
    {
     "data": {
      "text/plain": [
       "array(['Food', 'Technology', 'Religion', 'Science', 'Politics', 'Finance'],\n",
       "      dtype=object)"
      ]
     },
     "execution_count": 144,
     "metadata": {},
     "output_type": "execute_result"
    }
   ],
   "source": [
    "df_nodes['Tags'].explode().unique()"
   ]
  },
  {
   "cell_type": "code",
   "execution_count": 157,
   "id": "1b669968",
   "metadata": {},
   "outputs": [
    {
     "data": {
      "application/vnd.jupyter.widget-view+json": {
       "model_id": "2f711d4cda27481496fd3edfbe3cbc44",
       "version_major": 2,
       "version_minor": 0
      },
      "text/plain": [
       "SelectMultiple(description='Select Tag:', layout=Layout(display='flex', flex_flow='column'), options=('Food', …"
      ]
     },
     "metadata": {},
     "output_type": "display_data"
    }
   ],
   "source": [
    "Tagpicker = widgets.SelectMultiple(\n",
    "    options=df_nodes['Tags'].explode().unique(),\n",
    "#     value='macOS',\n",
    "    # rows=10,\n",
    "    description='Select Tag:',\n",
    "#     layout=Layout(width=\"100%\"),\n",
    "    layout=Layout(display=\"flex\", flex_flow='column'),\n",
    "    disabled=False\n",
    ")\n",
    "Tagpicker"
   ]
  },
  {
   "cell_type": "code",
   "execution_count": 335,
   "id": "14964b7b",
   "metadata": {},
   "outputs": [],
   "source": [
    "def make_DFs():\n",
    "    guidmask = df_nodes.explode('Tags')[df_nodes.explode('Tags')['Tags'].isin(Tagpicker.value)]['GUID']\n",
    "\n",
    "    df_selected_nodes = df_nodes[df_nodes['GUID'].isin(guidmask)]\n",
    "\n",
    "    df_selected_edges = df_edges[df_edges['Source'].isin(df_selected_nodes['GUID'])]\n",
    "\n",
    "    ## Confusing name; This is just the nodes you'd need to create the graph based on the selected edges\n",
    "    df_nodes_SelGraph = df_nodes[df_nodes['GUID'].isin(set(df_selected_edges['Source'].tolist() + df_selected_edges['Target'].tolist()))]\n",
    "\n",
    "    citers = df_nodes[df_nodes['GUID'].isin(df_selected_edges['Source'])]\n",
    "\n",
    "    cited = df_nodes[df_nodes['GUID'].isin(df_selected_edges['Target'])]\n",
    "    \n",
    "    #     print(len(df_selected_edges['Source'].tolist() + df_selected_edges['Target'].tolist()))\n",
    "    #     print(len(set(df_selected_edges['Source'].tolist() + df_selected_edges['Target'].tolist())))\n",
    "    \n",
    "    return df_selected_nodes, df_selected_edges, df_nodes_SelGraph, citers, cited"
   ]
  },
  {
   "cell_type": "code",
   "execution_count": 323,
   "id": "59ecef77",
   "metadata": {},
   "outputs": [],
   "source": [
    "make_DFs()"
   ]
  },
  {
   "cell_type": "markdown",
   "id": "deddb32d",
   "metadata": {},
   "source": [
    "-----\n",
    "### Build Graph & Vis"
   ]
  },
  {
   "cell_type": "code",
   "execution_count": 338,
   "id": "7f8af5d4",
   "metadata": {},
   "outputs": [],
   "source": [
    "G = nx.from_pandas_edgelist(make_DFs()[1], source='Source', target='Target')"
   ]
  },
  {
   "cell_type": "code",
   "execution_count": 339,
   "id": "500c1c2e",
   "metadata": {},
   "outputs": [],
   "source": [
    "def make_vis(name=f'graph {\" \".join(Tagpicker.value)} {time.strftime(\"%d%b%y %H %M %S\")}.html', notebook=False):\n",
    "    if notebook:\n",
    "        # Specify pixels so you can see the graph in Jupyter\n",
    "        nt = Network(width=\"75%\", height='500px', directed=True, notebook=notebook)\n",
    "    else:\n",
    "        # Make it the size of your screen\n",
    "        nt = Network(width=\"75%\", height='100%', directed=True, notebook=notebook)\n",
    "    nt.show_buttons(filter_=['layout','physics'])\n",
    "    nt.toggle_physics(False) \n",
    "    # nt.show_buttons(False)\n",
    "    nt.width=\"75%\"\n",
    "    nt.from_nx(G)\n",
    "\n",
    "    return nt.show(name)"
   ]
  },
  {
   "cell_type": "code",
   "execution_count": 340,
   "id": "d1bfd0b9",
   "metadata": {},
   "outputs": [
    {
     "data": {
      "text/html": [
       "\n",
       "        <iframe\n",
       "            width=\"75%\"\n",
       "            height=\"500px\"\n",
       "            src=\"graph Technology Religion Science 30Jun22 03 36 29.html\"\n",
       "            frameborder=\"0\"\n",
       "            allowfullscreen\n",
       "            \n",
       "        ></iframe>\n",
       "        "
      ],
      "text/plain": [
       "<IPython.lib.display.IFrame at 0x21ebb1a0fa0>"
      ]
     },
     "execution_count": 340,
     "metadata": {},
     "output_type": "execute_result"
    }
   ],
   "source": [
    "make_vis(notebook=True)"
   ]
  },
  {
   "cell_type": "markdown",
   "id": "f8870e46",
   "metadata": {},
   "source": [
    "#### Notes \n",
    "- you can build the graph with nt.add_nodes(list list list), to preserve attributes\n",
    "- Consider making groups as a group argument in pyvis, and a categorical in Pandas"
   ]
  },
  {
   "cell_type": "markdown",
   "id": "0d4ce88f",
   "metadata": {},
   "source": [
    "------\n",
    "\n",
    "### Figure out horizontal bar charts"
   ]
  },
  {
   "cell_type": "code",
   "execution_count": 126,
   "id": "a1abe67e",
   "metadata": {
    "scrolled": false
   },
   "outputs": [
    {
     "data": {
      "text/html": [
       "<div>\n",
       "<style scoped>\n",
       "    .dataframe tbody tr th:only-of-type {\n",
       "        vertical-align: middle;\n",
       "    }\n",
       "\n",
       "    .dataframe tbody tr th {\n",
       "        vertical-align: top;\n",
       "    }\n",
       "\n",
       "    .dataframe thead th {\n",
       "        text-align: right;\n",
       "    }\n",
       "</style>\n",
       "<table border=\"1\" class=\"dataframe\">\n",
       "  <thead>\n",
       "    <tr style=\"text-align: right;\">\n",
       "      <th></th>\n",
       "      <th>Tags</th>\n",
       "      <th>pct</th>\n",
       "    </tr>\n",
       "  </thead>\n",
       "  <tbody>\n",
       "    <tr>\n",
       "      <th>Finance</th>\n",
       "      <td>14</td>\n",
       "      <td>0.297872</td>\n",
       "    </tr>\n",
       "    <tr>\n",
       "      <th>Science</th>\n",
       "      <td>8</td>\n",
       "      <td>0.170213</td>\n",
       "    </tr>\n",
       "    <tr>\n",
       "      <th>Politics</th>\n",
       "      <td>7</td>\n",
       "      <td>0.148936</td>\n",
       "    </tr>\n",
       "    <tr>\n",
       "      <th>Food</th>\n",
       "      <td>7</td>\n",
       "      <td>0.148936</td>\n",
       "    </tr>\n",
       "    <tr>\n",
       "      <th>Technology</th>\n",
       "      <td>6</td>\n",
       "      <td>0.127660</td>\n",
       "    </tr>\n",
       "    <tr>\n",
       "      <th>Religion</th>\n",
       "      <td>5</td>\n",
       "      <td>0.106383</td>\n",
       "    </tr>\n",
       "  </tbody>\n",
       "</table>\n",
       "</div>"
      ],
      "text/plain": [
       "            Tags       pct\n",
       "Finance       14  0.297872\n",
       "Science        8  0.170213\n",
       "Politics       7  0.148936\n",
       "Food           7  0.148936\n",
       "Technology     6  0.127660\n",
       "Religion       5  0.106383"
      ]
     },
     "execution_count": 126,
     "metadata": {},
     "output_type": "execute_result"
    }
   ],
   "source": [
    "df_select_nodes_tags = pd.DataFrame(df_nodes[df_nodes['GUID'].isin(df_edges['Target'])].explode('Tags')['Tags'].value_counts())\n",
    "df_select_nodes_tags['pct'] = df_select_nodes_tags['Tags'] / sum(df_select_nodes_tags['Tags'])\n",
    "df_select_nodes_tags"
   ]
  },
  {
   "cell_type": "raw",
   "id": "61c9a706",
   "metadata": {},
   "source": [
    "df_select_nodes_tags = df_select_nodes_tags.reset_index()\n",
    "df_select_nodes_tags"
   ]
  },
  {
   "cell_type": "markdown",
   "id": "9726693d",
   "metadata": {},
   "source": [
    "- https://stackoverflow.com/questions/61740434/how-to-make-horizontal-bar-chart-using-seaborn-to-be-stacked-to-a-100-by-hue-pa\n",
    "- https://pandas.pydata.org/docs/reference/api/pandas.DataFrame.plot.barh.html"
   ]
  },
  {
   "cell_type": "code",
   "execution_count": 82,
   "id": "7fac05ff",
   "metadata": {},
   "outputs": [
    {
     "data": {
      "text/plain": [
       "<AxesSubplot:>"
      ]
     },
     "execution_count": 82,
     "metadata": {},
     "output_type": "execute_result"
    },
    {
     "data": {
      "image/png": "[encoded data removed]",
      "text/plain": [
       "<Figure size 432x288 with 1 Axes>"
      ]
     },
     "metadata": {
      "needs_background": "light"
     },
     "output_type": "display_data"
    }
   ],
   "source": [
    "df_nodes[df_nodes['GUID'].isin(df_edges['Target'])].explode('Tags')['Tags'].value_counts().plot(kind='barh', stacked=True)"
   ]
  },
  {
   "cell_type": "raw",
   "id": "fca601d9",
   "metadata": {},
   "source": [
    "df['pct'] = df['Count'] / sum(df['Count'])\n",
    "df.pivot(index='new_placement_name',columns='Count',\n",
    "         values='pct').plot(kind='barh',stacked=True,colormap='Blues',rot=90) "
   ]
  }
 ],
 "metadata": {
  "kernelspec": {
   "display_name": "NLP",
   "language": "python",
   "name": "nlp"
  },
  "language_info": {
   "codemirror_mode": {
    "name": "ipython",
    "version": 3
   },
   "file_extension": ".py",
   "mimetype": "text/x-python",
   "name": "python",
   "nbconvert_exporter": "python",
   "pygments_lexer": "ipython3",
   "version": "3.8.11"
  }
 },
 "nbformat": 4,
 "nbformat_minor": 5
}
